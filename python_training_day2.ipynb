{
  "nbformat": 4,
  "nbformat_minor": 0,
  "metadata": {
    "colab": {
      "provenance": [],
      "include_colab_link": true
    },
    "kernelspec": {
      "name": "python3",
      "display_name": "Python 3"
    },
    "language_info": {
      "name": "python"
    }
  },
  "cells": [
    {
      "cell_type": "markdown",
      "metadata": {
        "id": "view-in-github",
        "colab_type": "text"
      },
      "source": [
        "<a href=\"https://colab.research.google.com/github/gkrishna247/python_training/blob/main/python_training_day2.ipynb\" target=\"_parent\"><img src=\"https://colab.research.google.com/assets/colab-badge.svg\" alt=\"Open In Colab\"/></a>"
      ]
    },
    {
      "cell_type": "markdown",
      "source": [
        "1. Create a list of first 10 natural numbers. And write a program to find the lists of odd numbers and even numbers separately. And, to find the square of its odd and even lists."
      ],
      "metadata": {
        "id": "JeE1d4YzFSpY"
      }
    },
    {
      "cell_type": "code",
      "execution_count": 1,
      "metadata": {
        "colab": {
          "base_uri": "https://localhost:8080/"
        },
        "id": "HTTvRFisDs_D",
        "outputId": "04817241-0c02-4c35-a9ef-f734ada93eb7"
      },
      "outputs": [
        {
          "output_type": "stream",
          "name": "stdout",
          "text": [
            "Odd numbers: [1, 3, 5, 7, 9]\n",
            "Even numbers: [2, 4, 6, 8, 10]\n",
            "Squares of odd numbers: [1, 9, 25, 49, 81]\n",
            "Squares of even numbers: [4, 16, 36, 64, 100]\n"
          ]
        }
      ],
      "source": [
        "natural_numbers = list(range(1, 11))\n",
        "odd_numbers = []\n",
        "even_numbers = []\n",
        "for num in natural_numbers:\n",
        "    if num % 2 != 0:\n",
        "        odd_numbers.append(num)\n",
        "    else:\n",
        "        even_numbers.append(num)\n",
        "odd_squares = [num ** 2 for num in odd_numbers]\n",
        "even_squares = [num ** 2 for num in even_numbers]\n",
        "print(\"Odd numbers:\", odd_numbers)\n",
        "print(\"Even numbers:\", even_numbers)\n",
        "print(\"Squares of odd numbers:\", odd_squares)\n",
        "print(\"Squares of even numbers:\", even_squares)"
      ]
    },
    {
      "cell_type": "markdown",
      "source": [
        "2. Write a program to find the largest and smallest number in the list without using the in-built function"
      ],
      "metadata": {
        "id": "-Cg1bK1nEwUi"
      }
    },
    {
      "cell_type": "code",
      "source": [
        "def find_max_min(numbers):\n",
        "    if not numbers:\n",
        "        return None, None\n",
        "    max_num = numbers[0]\n",
        "    min_num = numbers[0]\n",
        "    for num in numbers:\n",
        "        if num > max_num:\n",
        "            max_num = num\n",
        "        elif num < min_num:\n",
        "            min_num = num\n",
        "    return max_num, min_num\n",
        "numbers = [7, 2, 9, 4, 1, 6]\n",
        "largest, smallest = find_max_min(numbers)\n",
        "print(\"Largest number:\", largest)\n",
        "print(\"Smallest number:\", smallest)"
      ],
      "metadata": {
        "colab": {
          "base_uri": "https://localhost:8080/"
        },
        "id": "8tuYaL40FldR",
        "outputId": "b10de947-2570-48c7-c17c-7ef97fbb45d2"
      },
      "execution_count": 2,
      "outputs": [
        {
          "output_type": "stream",
          "name": "stdout",
          "text": [
            "Largest number: 9\n",
            "Smallest number: 1\n"
          ]
        }
      ]
    },
    {
      "cell_type": "markdown",
      "source": [
        "3. Write a program to find the second largest and second smallest number in the list without using the in-built function."
      ],
      "metadata": {
        "id": "3opecWWtGpbW"
      }
    },
    {
      "cell_type": "code",
      "source": [
        "def find_second_largest_smallest(numbers):\n",
        "    if len(numbers) < 2:\n",
        "        return None, None\n",
        "    largest = second_largest = float('-inf')\n",
        "    smallest = second_smallest = float('inf')\n",
        "    for num in numbers:\n",
        "        if num > largest:\n",
        "            second_largest = largest\n",
        "            largest = num\n",
        "        elif num > second_largest and num != largest:\n",
        "            second_largest = num\n",
        "        if num < smallest:\n",
        "            second_smallest = smallest\n",
        "            smallest = num\n",
        "        elif num < second_smallest and num != smallest:\n",
        "            second_smallest = num\n",
        "    return second_largest, second_smallest\n",
        "\n",
        "numbers = [7, 2, 9, 4, 1, 6]\n",
        "second_largest, second_smallest = find_second_largest_smallest(numbers)\n",
        "print(\"Second largest number:\", second_largest)\n",
        "print(\"Second smallest number:\", second_smallest)"
      ],
      "metadata": {
        "colab": {
          "base_uri": "https://localhost:8080/"
        },
        "id": "gb6S9VosGtO7",
        "outputId": "66bd0032-127a-4263-9844-2a0fe57cd372"
      },
      "execution_count": 3,
      "outputs": [
        {
          "output_type": "stream",
          "name": "stdout",
          "text": [
            "Second largest number: 7\n",
            "Second smallest number: 2\n"
          ]
        }
      ]
    },
    {
      "cell_type": "markdown",
      "source": [
        "4. Write a program to sort elements stored in the list as Ascending order and Descending order without using the in-built function (sort ()).                \n",
        "Eg: [5,3,7,9,8,4,2]\n"
      ],
      "metadata": {
        "id": "RGZstlXtHk17"
      }
    },
    {
      "cell_type": "code",
      "source": [
        "def ascending_sort(numbers):\n",
        "    for i in range(len(numbers)):\n",
        "        for j in range(i + 1, len(numbers)):\n",
        "            if numbers[i] > numbers[j]:\n",
        "                numbers[i], numbers[j] = numbers[j], numbers[i]\n",
        "    return numbers\n",
        "\n",
        "def descending_sort(numbers):\n",
        "    for i in range(len(numbers)):\n",
        "        for j in range(i + 1, len(numbers)):\n",
        "            if numbers[i] < numbers[j]:\n",
        "                numbers[i], numbers[j] = numbers[j], numbers[i]\n",
        "    return numbers\n",
        "\n",
        "numbers = [5, 3, 7, 9, 8, 4, 2]\n",
        "ascending_sorted = ascending_sort(numbers.copy())\n",
        "descending_sorted = descending_sort(numbers.copy())\n",
        "\n",
        "print(\"Ascending order:\", ascending_sorted)\n",
        "print(\"Descending order:\", descending_sorted)\n"
      ],
      "metadata": {
        "colab": {
          "base_uri": "https://localhost:8080/"
        },
        "id": "hBn3oB8dIw6o",
        "outputId": "b70e02bd-caf7-44b9-c04a-63cb045755da"
      },
      "execution_count": 4,
      "outputs": [
        {
          "output_type": "stream",
          "name": "stdout",
          "text": [
            "Ascending order: [2, 3, 4, 5, 7, 8, 9]\n",
            "Descending order: [9, 8, 7, 5, 4, 3, 2]\n"
          ]
        }
      ]
    },
    {
      "cell_type": "markdown",
      "source": [
        "5. Find the index position of the specific number stored in the list.\n",
        "Eg: a= [45,67,83,24,55,87,77,34]\n",
        "What is the position of 55?\n"
      ],
      "metadata": {
        "id": "y-oAoU8SJDeu"
      }
    },
    {
      "cell_type": "code",
      "source": [
        "def find_index(numbers, target):\n",
        "    for i, num in enumerate(numbers):\n",
        "        if num == target:\n",
        "            return i\n",
        "    return -1\n",
        "\n",
        "a = [45, 67, 83, 24, 55, 87, 77, 34]\n",
        "target_number = 55\n",
        "index = find_index(a, target_number)\n",
        "print(\"The position of\", target_number, \"is:\", index)\n"
      ],
      "metadata": {
        "colab": {
          "base_uri": "https://localhost:8080/"
        },
        "id": "xRGPWukQJfzT",
        "outputId": "49a4471b-2d22-4064-91c0-c9e10ba18c60"
      },
      "execution_count": 5,
      "outputs": [
        {
          "output_type": "stream",
          "name": "stdout",
          "text": [
            "The position of 55 is: 4\n"
          ]
        }
      ]
    },
    {
      "cell_type": "markdown",
      "source": [
        "6. Find most frequent element present in a list.\n",
        "Eg: a= [4,5,6,4,6,7,4,2,4,8,4]\n",
        "Output: 4\n"
      ],
      "metadata": {
        "id": "w95xdsZSMbqY"
      }
    },
    {
      "cell_type": "code",
      "source": [
        "def most_frequent_element(numbers):\n",
        "    count_dict = {}\n",
        "    max_count = 0\n",
        "    most_frequent = None\n",
        "\n",
        "    for num in numbers:\n",
        "        if num in count_dict:\n",
        "            count_dict[num] += 1\n",
        "        else:\n",
        "            count_dict[num] = 1\n",
        "\n",
        "        if count_dict[num] > max_count:\n",
        "            max_count = count_dict[num]\n",
        "            most_frequent = num\n",
        "\n",
        "    return most_frequent\n",
        "\n",
        "a = [4, 5, 6, 4, 6, 7, 4, 2, 4, 8, 4]\n",
        "result = most_frequent_element(a)\n",
        "print(\"Most frequent element:\", result)"
      ],
      "metadata": {
        "colab": {
          "base_uri": "https://localhost:8080/"
        },
        "id": "T_GPzNzqMnMY",
        "outputId": "d5a9ca73-2c5a-4e34-f6e4-bbfe10d09549"
      },
      "execution_count": 6,
      "outputs": [
        {
          "output_type": "stream",
          "name": "stdout",
          "text": [
            "Most frequent element: 4\n"
          ]
        }
      ]
    },
    {
      "cell_type": "markdown",
      "source": [
        "7. Below are the two lists. Write a Python program to convert them into a dictionary in a way that item from list1 is the key and item from list2 is the value by using update method ().\n",
        "keys = ['Ten', 'Twenty', 'Thirty']\n",
        "values = [10, 20, 30]\n",
        "Output:\n",
        "{'Ten': 10, 'Twenty': 20, 'Thirty': 30}\n"
      ],
      "metadata": {
        "id": "TW6Nb2UsNSqX"
      }
    },
    {
      "cell_type": "code",
      "source": [
        "keys = ['Ten', 'Twenty', 'Thirty']\n",
        "values = [10, 20, 30]\n",
        "result_dict = {}\n",
        "for i in range(len(keys)):\n",
        "    result_dict.update({keys[i]: values[i]})\n",
        "print(result_dict)"
      ],
      "metadata": {
        "colab": {
          "base_uri": "https://localhost:8080/"
        },
        "id": "x3l3HhI7NY9u",
        "outputId": "d02806d1-dacd-4c77-f8bf-7fc1fc665630"
      },
      "execution_count": 7,
      "outputs": [
        {
          "output_type": "stream",
          "name": "stdout",
          "text": [
            "{'Ten': 10, 'Twenty': 20, 'Thirty': 30}\n"
          ]
        }
      ]
    },
    {
      "cell_type": "markdown",
      "source": [
        "8. Create a list of 10 members as a Voter_list. Assume that there are 3 Candidates (A, B & C) are going to contest in the election process. Write a program that voters will cast their votes and predict the Winner and Runner of the election process and to find the members who voted for the Winner and Runner."
      ],
      "metadata": {
        "id": "OCy4ufqXOlWE"
      }
    },
    {
      "cell_type": "code",
      "source": [
        "def cast_votes(voter_list):\n",
        "    candidate_votes = {'A': 0, 'B': 0, 'C': 0}\n",
        "    for voter in voter_list:\n",
        "        vote = input(f\"{voter}, please cast your vote (A, B, C): \").upper()\n",
        "        while vote not in ['A', 'B', 'C']:\n",
        "            vote = input(\"Invalid vote! Please vote for A, B, or C: \").upper()\n",
        "        candidate_votes[vote] += 1\n",
        "    return candidate_votes\n",
        "def find_winner_runner(votes):\n",
        "    sorted_votes = sorted(votes.items(), key=lambda x: x[1], reverse=True)\n",
        "    winner = sorted_votes[0][0]\n",
        "    runner = sorted_votes[1][0]\n",
        "    return winner, runner\n",
        "def find_voters_for_winner_runner(voter_list, winner, runner):\n",
        "    winner_voters = [voter for voter in voter_list if voter[1] == winner]\n",
        "    runner_voters = [voter for voter in voter_list if voter[1] == runner]\n",
        "    return winner_voters, runner_voters\n",
        "Voter_list = [('Voter1', ''), ('Voter2', ''), ('Voter3', ''), ('Voter4', ''), ('Voter5', ''),\n",
        "              ('Voter6', ''), ('Voter7', ''), ('Voter8', ''), ('Voter9', ''), ('Voter10', '')]\n",
        "votes = cast_votes(Voter_list)\n",
        "winner, runner = find_winner_runner(votes)\n",
        "winner_voters, runner_voters = find_voters_for_winner_runner(Voter_list, winner, runner)\n",
        "print(\"Votes:\", votes)\n",
        "print(\"Winner:\", winner)\n",
        "print(\"Runner:\", runner)\n",
        "print(\"Voters for the winner:\", [voter[0] for voter in winner_voters])\n",
        "print(\"Voters for the runner:\", [voter[0] for voter in runner_voters])"
      ],
      "metadata": {
        "colab": {
          "base_uri": "https://localhost:8080/"
        },
        "id": "r5iKFHSGOocj",
        "outputId": "db60cbac-62cd-461a-a7f0-bafff5d92c29"
      },
      "execution_count": 9,
      "outputs": [
        {
          "output_type": "stream",
          "name": "stdout",
          "text": [
            "('Voter1', ''), please cast your vote (A, B, C): A\n",
            "('Voter2', ''), please cast your vote (A, B, C): A\n",
            "('Voter3', ''), please cast your vote (A, B, C): B\n",
            "('Voter4', ''), please cast your vote (A, B, C): C\n",
            "('Voter5', ''), please cast your vote (A, B, C): A\n",
            "('Voter6', ''), please cast your vote (A, B, C): C\n",
            "('Voter7', ''), please cast your vote (A, B, C): A\n",
            "('Voter8', ''), please cast your vote (A, B, C): B\n",
            "('Voter9', ''), please cast your vote (A, B, C): C\n",
            "('Voter10', ''), please cast your vote (A, B, C): A\n",
            "Votes: {'A': 5, 'B': 2, 'C': 3}\n",
            "Winner: A\n",
            "Runner: C\n",
            "Voters for the winner: []\n",
            "Voters for the runner: []\n"
          ]
        }
      ]
    }
  ]
}