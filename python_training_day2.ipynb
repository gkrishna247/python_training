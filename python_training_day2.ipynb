{
  "nbformat": 4,
  "nbformat_minor": 0,
  "metadata": {
    "colab": {
      "provenance": [],
      "include_colab_link": true
    },
    "kernelspec": {
      "name": "python3",
      "display_name": "Python 3"
    },
    "language_info": {
      "name": "python"
    }
  },
  "cells": [
    {
      "cell_type": "markdown",
      "metadata": {
        "id": "view-in-github",
        "colab_type": "text"
      },
      "source": [
        "<a href=\"https://colab.research.google.com/github/gkrishna247/python_training/blob/main/python_training_day2.ipynb\" target=\"_parent\"><img src=\"https://colab.research.google.com/assets/colab-badge.svg\" alt=\"Open In Colab\"/></a>"
      ]
    },
    {
      "cell_type": "markdown",
      "source": [
        "Create a list of first 10 natural numbers. And write a program to find the lists of odd numbers and even numbers separately. And, to find the square of its odd and even lists."
      ],
      "metadata": {
        "id": "JeE1d4YzFSpY"
      }
    },
    {
      "cell_type": "code",
      "execution_count": null,
      "metadata": {
        "colab": {
          "base_uri": "https://localhost:8080/"
        },
        "id": "HTTvRFisDs_D",
        "outputId": "e7360f89-b705-45b6-c055-8e7e868682a3"
      },
      "outputs": [
        {
          "output_type": "stream",
          "name": "stdout",
          "text": [
            "First 10 natural numbers: [1, 2, 3, 4, 5, 6, 7, 8, 9, 10]\n",
            "Odd numbers: [1, 3, 5, 7, 9]\n",
            "Even numbers: [2, 4, 6, 8, 10]\n",
            "Squares of odd numbers: [1, 9, 25, 49, 81]\n",
            "Squares of even numbers: [4, 16, 36, 64, 100]\n"
          ]
        }
      ],
      "source": [
        "natural_numbers = list(range(1, 11))\n",
        "\n",
        "odd_numbers = [num for num in natural_numbers if num % 2 != 0]\n",
        "even_numbers = [num for num in natural_numbers if num % 2 == 0]\n",
        "odd_squares = [num ** 2 for num in odd_numbers]\n",
        "even_squares = [num ** 2 for num in even_numbers]\n",
        "print(\"First 10 natural numbers:\", natural_numbers)\n",
        "print(\"Odd numbers:\", odd_numbers)\n",
        "print(\"Even numbers:\", even_numbers)\n",
        "print(\"Squares of odd numbers:\", odd_squares)\n",
        "print(\"Squares of even numbers:\", even_squares)\n"
      ]
    },
    {
      "cell_type": "markdown",
      "source": [
        "Write a program to find the largest and smallest number in the list without using the in-built function"
      ],
      "metadata": {
        "id": "-Cg1bK1nEwUi"
      }
    },
    {
      "cell_type": "code",
      "source": [
        "\n",
        "natural_num = [11,112,245,25,15,55,22,35,56,78,80,90]\n",
        "\n",
        "largest = natural_num[0]\n",
        "smallest = natural_num[0]\n",
        "\n",
        "for num in natural_num:\n",
        "    if num> largest:\n",
        "        largest = num\n",
        "    if num < smallest:\n",
        "        smallest = num\n",
        "\n",
        "print(\"List of natural numbers:\", natural_num)\n",
        "print(\"Largest number in the list:\", largest)\n",
        "print(\"Smallest number in the list:\", smallest)\n"
      ],
      "metadata": {
        "colab": {
          "base_uri": "https://localhost:8080/"
        },
        "id": "8tuYaL40FldR",
        "outputId": "47aad772-57f4-4404-aefb-b320e5cb6610"
      },
      "execution_count": null,
      "outputs": [
        {
          "output_type": "stream",
          "name": "stdout",
          "text": [
            "List of natural numbers: [11, 112, 245, 25, 15, 55, 22, 35, 56, 78, 80, 90]\n",
            "Largest number in the list: 245\n",
            "Smallest number in the list: 11\n"
          ]
        }
      ]
    },
    {
      "cell_type": "markdown",
      "source": [
        "Write a program to find the second largest and second smallest number in the list without using the in-built function."
      ],
      "metadata": {
        "id": "3opecWWtGpbW"
      }
    },
    {
      "cell_type": "code",
      "source": [
        "numbers = list(range(1, 11))\n",
        "\n",
        "largest = second_largest = float('-inf')\n",
        "smallest = second_smallest = float('inf')\n",
        "\n",
        "for number in numbers:\n",
        "    if number > largest:\n",
        "        second_largest=largest\n",
        "        largest=number\n",
        "    elif number>second_largest and number != largest:\n",
        "        second_largest = number\n",
        "\n",
        "    if number<smallest:\n",
        "        second_smallest = smallest\n",
        "        smallest = number\n",
        "    elif number<second_smallest and number!=smallest:\n",
        "        second_smallest = number\n",
        "\n",
        "print(\"List of natural numbers:\",numbers)\n",
        "print(\"Second largest number in the list:\",second_largest)\n",
        "print(\"Second smallest number in the list:\",second_smallest)\n"
      ],
      "metadata": {
        "colab": {
          "base_uri": "https://localhost:8080/"
        },
        "id": "gb6S9VosGtO7",
        "outputId": "74bbc53e-2a33-4684-f561-70a59af30b88"
      },
      "execution_count": null,
      "outputs": [
        {
          "output_type": "stream",
          "name": "stdout",
          "text": [
            "List of natural numbers: [1, 2, 3, 4, 5, 6, 7, 8, 9, 10]\n",
            "Second largest number in the list: 9\n",
            "Second smallest number in the list: 2\n"
          ]
        }
      ]
    },
    {
      "cell_type": "markdown",
      "source": [
        "Write a program to sort elements stored in the list as Ascending order and Descending order without using the in-built function (sort ()).                \n",
        "Eg: [5,3,7,9,8,4,2]\n"
      ],
      "metadata": {
        "id": "RGZstlXtHk17"
      }
    },
    {
      "cell_type": "code",
      "source": [
        "numbers = [5, 3, 7, 9, 8, 4, 2]\n",
        "for i in range(len(numbers)):\n",
        "    for j in range(0, len(numbers) - i - 1):\n",
        "        if numbers[j] > numbers[j + 1]:\n",
        "            numbers[j], numbers[j + 1] = numbers[j + 1], numbers[j]\n",
        "sorted_ascending = numbers.copy()\n",
        "\n",
        "\n",
        "for i in range(len(numbers)):\n",
        "    for j in range(0, len(numbers) - i - 1):\n",
        "        if numbers[j] < numbers[j + 1]:\n",
        "\n",
        "            numbers[j], numbers[j + 1] = numbers[j + 1], numbers[j]\n",
        "\n",
        "\n",
        "sorted_descending = numbers.copy()\n",
        "\n",
        "print(\"Original list:\", [5, 3, 7, 9, 8, 4, 2])\n",
        "print(\"Sorted list in ascending order:\", sorted_ascending)\n",
        "print(\"Sorted list in descending order:\", sorted_descending)\n"
      ],
      "metadata": {
        "colab": {
          "base_uri": "https://localhost:8080/"
        },
        "id": "hBn3oB8dIw6o",
        "outputId": "23eb7049-1acf-4b54-f256-bb7cfbdddfdf"
      },
      "execution_count": null,
      "outputs": [
        {
          "output_type": "stream",
          "name": "stdout",
          "text": [
            "Original list: [5, 3, 7, 9, 8, 4, 2]\n",
            "Sorted list in ascending order: [2, 3, 4, 5, 7, 8, 9]\n",
            "Sorted list in descending order: [9, 8, 7, 5, 4, 3, 2]\n"
          ]
        }
      ]
    },
    {
      "cell_type": "markdown",
      "source": [
        "Find the index position of the specific number stored in the list.\n",
        "Eg: a= [45,67,83,24,55,87,77,34]\n",
        "What is the position of 55?\n"
      ],
      "metadata": {
        "id": "y-oAoU8SJDeu"
      }
    },
    {
      "cell_type": "code",
      "source": [
        "\n",
        "a=[45, 67, 83, 24, 55, 87, 77, 34]\n",
        "numberToFind=int(input(\"Enter a number in the list:\\n\"))\n",
        "index= -1\n",
        "for i in range(len(a)):\n",
        "    if a[i]==numberToFind:\n",
        "        index = i\n",
        "        break  # Exit the loop once the number is found\n",
        "\n",
        "# Output the result\n",
        "if index != -1:\n",
        "    print(f\"The position of {numberToFind} is: {index}\")\n",
        "else:\n",
        "    print(f\"{numberToFind} is not in the list.\")\n"
      ],
      "metadata": {
        "colab": {
          "base_uri": "https://localhost:8080/"
        },
        "id": "xRGPWukQJfzT",
        "outputId": "c5102abb-3b38-4c61-a710-71629c0d24ad"
      },
      "execution_count": null,
      "outputs": [
        {
          "output_type": "stream",
          "name": "stdout",
          "text": [
            "Enter a number in the list:\n",
            "55\n",
            "The position of 55 is: 4\n"
          ]
        }
      ]
    },
    {
      "cell_type": "markdown",
      "source": [
        "Find most frequent element present in a list.\n",
        "Eg: a= [4,5,6,4,6,7,4,2,4,8,4]\n",
        "Output: 4\n"
      ],
      "metadata": {
        "id": "w95xdsZSMbqY"
      }
    },
    {
      "cell_type": "code",
      "source": [
        "a=[4, 5, 6, 4, 6, 7, 4, 2, 4, 8, 4]\n",
        "freq={}\n",
        "for element in a:\n",
        "    if element in freq:\n",
        "        freq[element] += 1\n",
        "    else:\n",
        "        freq[element] = 1\n",
        "most_frequent_element = None\n",
        "max_freq= 0\n",
        "\n",
        "for element in freq:\n",
        "    if freq[element] > max_freq:\n",
        "        max_freq = freq[element]\n",
        "        most_frequent_element=element\n",
        "\n",
        "print(f\"The most frequent element is: {most_frequent_element}\")\n"
      ],
      "metadata": {
        "colab": {
          "base_uri": "https://localhost:8080/"
        },
        "id": "T_GPzNzqMnMY",
        "outputId": "a2d8f611-45e4-4d57-dea9-c47c7795b4c1"
      },
      "execution_count": null,
      "outputs": [
        {
          "output_type": "stream",
          "name": "stdout",
          "text": [
            "The most frequent element is: 4\n"
          ]
        }
      ]
    },
    {
      "cell_type": "markdown",
      "source": [
        "Below are the two lists. Write a Python program to convert them into a dictionary in a way that item from list1 is the key and item from list2 is the value by using update method ().\n",
        "keys = ['Ten', 'Twenty', 'Thirty']\n",
        "values = [10, 20, 30]\n",
        "Output:\n",
        "{'Ten': 10, 'Twenty': 20, 'Thirty': 30}\n"
      ],
      "metadata": {
        "id": "TW6Nb2UsNSqX"
      }
    },
    {
      "cell_type": "code",
      "source": [
        "keys = ['Ten','Twenty','Thirty']\n",
        "values = [10, 20, 30]\n",
        "dictionary = {}\n",
        "for i in range(len(keys)):\n",
        "    dictionary.update({keys[i]: values[i]})\n",
        "print(dictionary)\n"
      ],
      "metadata": {
        "colab": {
          "base_uri": "https://localhost:8080/"
        },
        "id": "x3l3HhI7NY9u",
        "outputId": "9c8bc993-88da-4bcb-be54-c60ac2a7e074"
      },
      "execution_count": null,
      "outputs": [
        {
          "output_type": "stream",
          "name": "stdout",
          "text": [
            "{'Ten': 10, 'Twenty': 20, 'Thirty': 30}\n"
          ]
        }
      ]
    },
    {
      "cell_type": "markdown",
      "source": [
        "Create a list of 10 members as a Voter_list. Assume that there are 3 Candidates (A, B & C) are going to contest in the election process. Write a program that voters will cast their votes and predict the Winner and Runner of the election process and to find the members who voted for the Winner and Runner."
      ],
      "metadata": {
        "id": "OCy4ufqXOlWE"
      }
    },
    {
      "cell_type": "code",
      "source": [
        "\n",
        "candidates = ['A', 'B', 'C']\n",
        "\n",
        "votes = {'A': 0, 'B': 0, 'C': 0}\n",
        "\n",
        "print(\"Welcome to the voting booth!\")\n",
        "print(\"Candidates: A, B, C\")\n",
        "for i in range(10):\n",
        "    user_vote = input(f\"Vote {i+1}: Please enter your vote (A/B/C): \")\n",
        "\n",
        "    if user_vote.upper() in candidates:\n",
        "        votes[user_vote.upper()] += 1\n",
        "        print(\"Thank you for casting your vote!\")\n",
        "    else:\n",
        "        print(\"Invalid vote! Please enter A, B, or C.\")\n",
        "\n",
        "sorted_votes = sorted(votes.items(), key=lambda item: item[1], reverse=True)\n",
        "winner = sorted_votes[0][0]\n",
        "runner_up = sorted_votes[1][0]\n",
        "\n",
        "print(\"\\nElection Results:\")\n",
        "print(\"Votes:\", votes)\n",
        "print(\"Winner:\", winner, \"with\", votes[winner], \"votes\")\n",
        "print(\"Runner-up:\", runner_up, \"with\", votes[runner_up], \"votes\")\n",
        "b\n"
      ],
      "metadata": {
        "colab": {
          "base_uri": "https://localhost:8080/"
        },
        "id": "r5iKFHSGOocj",
        "outputId": "4f438f92-7b0e-4aea-c080-4a0455ef3f6f"
      },
      "execution_count": null,
      "outputs": [
        {
          "output_type": "stream",
          "name": "stdout",
          "text": [
            "Welcome to the voting booth!\n",
            "Candidates: A, B, C\n",
            "Vote 1: Please enter your vote (A/B/C): a\n",
            "Thank you for casting your vote!\n",
            "Vote 2: Please enter your vote (A/B/C): a\n",
            "Thank you for casting your vote!\n",
            "Vote 3: Please enter your vote (A/B/C): c\n",
            "Thank you for casting your vote!\n",
            "Vote 4: Please enter your vote (A/B/C): a\n",
            "Thank you for casting your vote!\n",
            "Vote 5: Please enter your vote (A/B/C): c\n",
            "Thank you for casting your vote!\n",
            "Vote 6: Please enter your vote (A/B/C): b\n",
            "Thank you for casting your vote!\n",
            "Vote 7: Please enter your vote (A/B/C): b\n",
            "Thank you for casting your vote!\n",
            "Vote 8: Please enter your vote (A/B/C): \n",
            "Invalid vote! Please enter A, B, or C.\n",
            "Vote 9: Please enter your vote (A/B/C): b\n",
            "Thank you for casting your vote!\n",
            "Vote 10: Please enter your vote (A/B/C): b\n",
            "Thank you for casting your vote!\n",
            "\n",
            "Election Results:\n",
            "Votes: {'A': 3, 'B': 4, 'C': 2}\n",
            "Winner: B with 4 votes\n",
            "Runner-up: A with 3 votes\n"
          ]
        }
      ]
    }
  ]
}