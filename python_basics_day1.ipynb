{
  "nbformat": 4,
  "nbformat_minor": 0,
  "metadata": {
    "colab": {
      "provenance": [],
      "include_colab_link": true
    },
    "kernelspec": {
      "name": "python3",
      "display_name": "Python 3"
    },
    "language_info": {
      "name": "python"
    }
  },
  "cells": [
    {
      "cell_type": "markdown",
      "metadata": {
        "id": "view-in-github",
        "colab_type": "text"
      },
      "source": [
        "<a href=\"https://colab.research.google.com/github/gkrishna247/python_training/blob/main/python_basics_day1.ipynb\" target=\"_parent\"><img src=\"https://colab.research.google.com/assets/colab-badge.svg\" alt=\"Open In Colab\"/></a>"
      ]
    },
    {
      "cell_type": "markdown",
      "source": [
        "Write a program to create a new string made of the middle three characters of an input string.\n",
        "\tEg: str1= “PRADEEP”                     \n",
        "\tOutput: ADE\n"
      ],
      "metadata": {
        "id": "gRkVPQhkxe8x"
      }
    },
    {
      "cell_type": "code",
      "execution_count": null,
      "metadata": {
        "colab": {
          "base_uri": "https://localhost:8080/"
        },
        "id": "IlPgrgbnPGiy",
        "outputId": "39f9f67c-0e4d-4f90-89b2-9648aef96fa3"
      },
      "outputs": [
        {
          "output_type": "stream",
          "name": "stdout",
          "text": [
            "Enter a string: \n",
            "saran\n",
            "New string:\n",
            " ara\n"
          ]
        }
      ],
      "source": [
        "input_string=input(\"Enter a string: \\n\")\n",
        "length=len(input_string)\n",
        "if length < 3:\n",
        "    print(\"Input string is too short to extract the middle three characters.\\n\")\n",
        "else:\n",
        "    middle_index = length // 2\n",
        "    if length % 2 == 0:\n",
        "        middle_three = input_string[middle_index - 1: middle_index + 2]\n",
        "    else:\n",
        "        middle_three = input_string[middle_index - 1: middle_index + 2]\n",
        "    new_string = middle_three\n",
        "    print(\"New string:\\n\", new_string)"
      ]
    },
    {
      "cell_type": "markdown",
      "source": [
        "Write a program to create a new string made of an input string’s first, middle, and last character.\n",
        "\tEg:  str1= ”PRADEEP”\n",
        "\tOutput: PDP\n"
      ],
      "metadata": {
        "id": "ytgkiT_OxXql"
      }
    },
    {
      "cell_type": "code",
      "source": [
        "input_string=input(\"Enter a string: \\n\")\n",
        "length=len(input_string)\n",
        "if length % 2 == 0:\n",
        "    middle=input_string[length // 2 - 1: length // 2 + 1]\n",
        "else:\n",
        "    middle = input_string[length // 2]\n",
        "new_string = input_string[0] + middle + input_string[-1]\n",
        "print(\"New string:\\n\", new_string)"
      ],
      "metadata": {
        "colab": {
          "base_uri": "https://localhost:8080/"
        },
        "id": "RLEQrseuQkqP",
        "outputId": "689f287d-78e1-4439-8df0-6c61fbd29339"
      },
      "execution_count": null,
      "outputs": [
        {
          "output_type": "stream",
          "name": "stdout",
          "text": [
            "Enter a string: \n",
            "saran\n",
            "New string:\n",
            " srn\n"
          ]
        }
      ]
    },
    {
      "cell_type": "markdown",
      "source": [
        ". Count all letters, digits, and special symbols from a given string\n",
        "str1 = \"P@#yn26at^&i5ve\"\n",
        "Outcome:\n",
        "Total counts of chars, digits, and symbols\n",
        "Chars = 8\n",
        "Digits = 3\n",
        "Symbol = 4\n"
      ],
      "metadata": {
        "id": "cpPQtKqexnap"
      }
    },
    {
      "cell_type": "code",
      "source": [
        "str1 = input(\"Enter a string :\")\n",
        "\n",
        "chars_count = 0\n",
        "digits_count = 0\n",
        "symbols_count = 0\n",
        "\n",
        "for char in str1:\n",
        "    if char.isalpha():\n",
        "        chars_count += 1\n",
        "    elif char.isdigit():\n",
        "        digits_count += 1\n",
        "    else:\n",
        "        symbols_count += 1\n",
        "\n",
        "print(\"Total counts of chars, digits, and symbols\")\n",
        "print(\"Chars =\", chars_count)\n",
        "print(\"Digits =\", digits_count)\n",
        "print(\"Symbols =\", symbols_count)"
      ],
      "metadata": {
        "colab": {
          "base_uri": "https://localhost:8080/"
        },
        "id": "2gkIQUjLQvtg",
        "outputId": "168cd076-4d12-4334-b725-c8e5e1d7d996"
      },
      "execution_count": null,
      "outputs": [
        {
          "output_type": "stream",
          "name": "stdout",
          "text": [
            "Enter a string :saran@251@life\n",
            "Total counts of chars, digits, and symbols\n",
            "Chars = 9\n",
            "Digits = 3\n",
            "Symbols = 2\n"
          ]
        }
      ]
    },
    {
      "cell_type": "markdown",
      "source": [
        "Given two strings, s1 and s2. Write a program to create a new string s3 made of the first char of s1, then the last char of s2, Next, the second char of s1 and second last char of s2, and so on. Any leftover chars go at the end of the result.\n",
        "s1 = \"Abc\"\n",
        "s2 = \"Xyz\"\n",
        "Output:\n",
        "AzbycX\n"
      ],
      "metadata": {
        "id": "ztwk_puMxxdo"
      }
    },
    {
      "cell_type": "code",
      "source": [
        "s1 = input(\"Enter string_1: \\n\")\n",
        "s2 = input(\"Enter string_2: \\n\")\n",
        "s3 = \"\"\n",
        "len_s1 = len(s1)\n",
        "len_s2 = len(s2)\n",
        "min_length = min(len_s1, len_s2)\n",
        "\n",
        "for i in range(min_length):\n",
        "    s3 += s1[i] + s2[-(i+1)]\n",
        "\n",
        "if len_s1 > min_length:\n",
        "    s3 += s1[min_length:]\n",
        "\n",
        "if len_s2 > min_length:\n",
        "    s3 += s2[:-(min_length+1):-1]\n",
        "\n",
        "print(\"New string:\", s3)"
      ],
      "metadata": {
        "colab": {
          "base_uri": "https://localhost:8080/"
        },
        "id": "QL_A6G0pRDK6",
        "outputId": "52ccc32a-efb9-41b7-d306-976a10458eba"
      },
      "execution_count": null,
      "outputs": [
        {
          "output_type": "stream",
          "name": "stdout",
          "text": [
            "Enter string_1: \n",
            "ABC\n",
            "Enter string_2: \n",
            "abc\n",
            "New string: AcBbCa\n"
          ]
        }
      ]
    },
    {
      "cell_type": "markdown",
      "source": [
        "Given two strings, str1 and str2. Write a program to create a new string str3 by appending str2 in the middle of str1.\n",
        "\tEg: str1= ”STAR”                                str2= “SUPER”\n",
        "\tOutput:   STSUPERAR\n"
      ],
      "metadata": {
        "id": "0Za8Henlx5QN"
      }
    },
    {
      "cell_type": "code",
      "source": [
        "str1 = input(\"Enter the first string (str1): \")\n",
        "str2 = input(\"Enter the second string (str2): \")\n",
        "middle_index = len(str1) // 2\n",
        "str3 = str1[:middle_index] + str2 + str1[middle_index:]\n",
        "print(\"New string:\", str3)"
      ],
      "metadata": {
        "colab": {
          "base_uri": "https://localhost:8080/"
        },
        "id": "RP7JgW9qRpy8",
        "outputId": "ffe742b6-6f29-4600-b052-6bfb51d6a2f4"
      },
      "execution_count": null,
      "outputs": [
        {
          "output_type": "stream",
          "name": "stdout",
          "text": [
            "Enter the first string (str1): saran\n",
            "Enter the second string (str2): ya\n",
            "New string: sayaran\n"
          ]
        }
      ]
    },
    {
      "cell_type": "markdown",
      "source": [
        "Accept the marked price from the user and calculate the Net amount as (Marked Price - Discount) to pay according to following criteria:\n",
        "Marked Price\t      Discount\n",
        ">10000\t              20%\n",
        ">7000 and <=10000   \t15%\n",
        "<=7000\t              10%"
      ],
      "metadata": {
        "id": "D_qepyaGyE_8"
      }
    },
    {
      "cell_type": "code",
      "source": [
        "marked_price = float(input(\"Enter the marked price: \\n\"))\n",
        "if marked_price > 10000:\n",
        "    discount = 0.20\n",
        "elif marked_price > 7000:\n",
        "    discount = 0.15\n",
        "else:\n",
        "    discount = 0.10\n",
        "net_amount = marked_price - (discount * marked_price)\n",
        "print(f\"The net amount to pay after discount is: {net_amount:.2f}\")"
      ],
      "metadata": {
        "colab": {
          "base_uri": "https://localhost:8080/"
        },
        "id": "TUW_vCv0SGjt",
        "outputId": "16821f7b-e828-4d2b-af16-69f659d4fb9f"
      },
      "execution_count": null,
      "outputs": [
        {
          "output_type": "stream",
          "name": "stdout",
          "text": [
            "Enter the marked price: \n",
            "5000.00\n",
            "The net amount to pay after discount is: 4500.00\n"
          ]
        }
      ]
    },
    {
      "cell_type": "markdown",
      "source": [
        "Write a program to calculate the electricity bill (accept number of units from user) according to the following criteria:\n",
        "Units\t            Price\n",
        "First 100 units\t   No charge\n",
        "Next 100 units\t   Rs.5 per unit\n",
        "After 200 units\t   Rs.10 per unit\n",
        "(For example, if input unit is 350, then the total bill amount is Rs.2000)"
      ],
      "metadata": {
        "id": "zwF7b7KmzP0D"
      }
    },
    {
      "cell_type": "code",
      "source": [
        "units = int(input(\"Enter the number of units: \"))\n",
        "if units <= 100:\n",
        "    bill = 0\n",
        "elif units <= 200:\n",
        "    bill = (units - 100) * 5\n",
        "else:\n",
        "    bill = (100 * 5) + (units - 200) * 10\n",
        "\n",
        "print(f\"The total electricity bill is: Rs.{bill}\")"
      ],
      "metadata": {
        "colab": {
          "base_uri": "https://localhost:8080/"
        },
        "id": "jG0i3yKhSOCw",
        "outputId": "c1c7997b-b9b0-4306-d9d2-c94fb55d249a"
      },
      "execution_count": null,
      "outputs": [
        {
          "output_type": "stream",
          "name": "stdout",
          "text": [
            "Enter the number of units: 150\n",
            "The total electricity bill is: Rs.250\n"
          ]
        }
      ]
    },
    {
      "cell_type": "markdown",
      "source": [
        ". Write a program to calculate Employee’s bonus calculation for the details given below\n",
        "Experience\t        Bonus (%)\n",
        "More than 8 years\t  10 %\n",
        "More than 4 years\t   7%\n",
        "More than 2 years\t   4%"
      ],
      "metadata": {
        "id": "Urg3Y7FUyu8c"
      }
    },
    {
      "cell_type": "code",
      "source": [
        "years_of_experience = float(input(\"Enter the employee's years of experience: \\n\"))\n",
        "salary = float(input(\"Enter the employee's salary: \\n\"))\n",
        "\n",
        "if years_of_experience > 8:\n",
        "    bonus_percentage = 10\n",
        "elif years_of_experience > 4:\n",
        "    bonus_percentage = 7\n",
        "elif years_of_experience > 2:\n",
        "    bonus_percentage = 4\n",
        "else:\n",
        "    bonus_percentage = 0\n",
        "\n",
        "bonus_amount = (bonus_percentage / 100) * salary\n",
        "print(f\"The employee's bonus is: {bonus_amount:.2f}\")"
      ],
      "metadata": {
        "colab": {
          "base_uri": "https://localhost:8080/"
        },
        "id": "T7dYQxMOSdHC",
        "outputId": "7e2e6e9e-8473-44a4-9223-73acb7c4f266"
      },
      "execution_count": null,
      "outputs": [
        {
          "output_type": "stream",
          "name": "stdout",
          "text": [
            "Enter the employee's years of experience: \n",
            "10\n",
            "Enter the employee's salary: \n",
            "20000\n",
            "The employee's bonus is: 2000.00\n"
          ]
        }
      ]
    }
  ]
}