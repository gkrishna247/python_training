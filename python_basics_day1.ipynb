{
  "nbformat": 4,
  "nbformat_minor": 0,
  "metadata": {
    "colab": {
      "provenance": [],
      "include_colab_link": true
    },
    "kernelspec": {
      "name": "python3",
      "display_name": "Python 3"
    },
    "language_info": {
      "name": "python"
    }
  },
  "cells": [
    {
      "cell_type": "markdown",
      "metadata": {
        "id": "view-in-github",
        "colab_type": "text"
      },
      "source": [
        "<a href=\"https://colab.research.google.com/github/gkrishna247/python_training/blob/main/python_basics_day1.ipynb\" target=\"_parent\"><img src=\"https://colab.research.google.com/assets/colab-badge.svg\" alt=\"Open In Colab\"/></a>"
      ]
    },
    {
      "cell_type": "markdown",
      "source": [
        "Write a program to create a new string made of the middle three characters of an input string.\n",
        "\tEg: str1= “PRADEEP”                     \n",
        "\tOutput: ADE\n"
      ],
      "metadata": {
        "id": "gRkVPQhkxe8x"
      }
    },
    {
      "cell_type": "code",
      "execution_count": 2,
      "metadata": {
        "colab": {
          "base_uri": "https://localhost:8080/"
        },
        "id": "IlPgrgbnPGiy",
        "outputId": "aba6e88e-670d-4933-dbbe-48b7589c8791"
      },
      "outputs": [
        {
          "output_type": "stream",
          "name": "stdout",
          "text": [
            "Output: ISH\n"
          ]
        }
      ],
      "source": [
        "def middle_three_characters(input_string):\n",
        "    if len(input_string) < 3:\n",
        "        return \"Input string must be at least 3 characters long.\"\n",
        "    if len(input_string) % 2 == 0:\n",
        "        return \"Input string length must be odd to have a middle three characters.\"\n",
        "\n",
        "    mid_index = len(input_string) // 2\n",
        "    return input_string[mid_index-1:mid_index+2]\n",
        "str1 = \"KRISHNA\"\n",
        "output = middle_three_characters(str1)\n",
        "print(\"Output:\", output)\n"
      ]
    },
    {
      "cell_type": "markdown",
      "source": [
        "Write a program to create a new string made of an input string’s first, middle, and last character.\n",
        "\tEg:  str1= ”PRADEEP”\n",
        "\tOutput: PDP\n"
      ],
      "metadata": {
        "id": "ytgkiT_OxXql"
      }
    },
    {
      "cell_type": "code",
      "source": [
        "def first_middle_last(input_string):\n",
        "    if len(input_string) < 3:\n",
        "        return \"Input string must be at least 3 characters long.\"\n",
        "    first_char = input_string[0]\n",
        "    mid_index = len(input_string) // 2\n",
        "    middle_char = input_string[mid_index]\n",
        "    last_char = input_string[-1]\n",
        "\n",
        "    return first_char + middle_char + last_char\n",
        "# Example usage:\n",
        "str1 = \"KRISHNA\"\n",
        "output = first_middle_last(str1)\n",
        "print(\"Output:\", output)\n"
      ],
      "metadata": {
        "colab": {
          "base_uri": "https://localhost:8080/"
        },
        "id": "RLEQrseuQkqP",
        "outputId": "80892981-78f7-4efd-c2c4-701320180a4e"
      },
      "execution_count": 3,
      "outputs": [
        {
          "output_type": "stream",
          "name": "stdout",
          "text": [
            "Output: KSA\n"
          ]
        }
      ]
    },
    {
      "cell_type": "markdown",
      "source": [
        "Count all letters, digits, and special symbols from a given string\n",
        "str1 = \"P@#yn26at^&i5ve\"\n",
        "Outcome:\n",
        "Total counts of chars, digits, and symbols\n",
        "Chars = 8\n",
        "Digits = 3\n",
        "Symbol = 4\n"
      ],
      "metadata": {
        "id": "cpPQtKqexnap"
      }
    },
    {
      "cell_type": "code",
      "source": [
        "def count_characters_types(input_string):\n",
        "    chars_count = 0\n",
        "    digits_count = 0\n",
        "    symbols_count = 0\n",
        "\n",
        "    for char in input_string:\n",
        "        if char.isalpha():\n",
        "            chars_count += 1\n",
        "        elif char.isdigit():\n",
        "            digits_count += 1\n",
        "        else:\n",
        "            symbols_count += 1\n",
        "\n",
        "    return chars_count, digits_count, symbols_count\n",
        "str1 = \"P@#yn26at^&i5ve\"\n",
        "chars, digits, symbols = count_characters_types(str1)\n",
        "print(\"Chars =\", chars)\n",
        "print(\"Digits =\", digits)\n",
        "print(\"Symbols =\", symbols)"
      ],
      "metadata": {
        "colab": {
          "base_uri": "https://localhost:8080/"
        },
        "id": "2gkIQUjLQvtg",
        "outputId": "843ea500-7e36-460d-d831-2fb22acbd35a"
      },
      "execution_count": 4,
      "outputs": [
        {
          "output_type": "stream",
          "name": "stdout",
          "text": [
            "Chars = 8\n",
            "Digits = 3\n",
            "Symbols = 4\n"
          ]
        }
      ]
    },
    {
      "cell_type": "markdown",
      "source": [
        "Given two strings, s1 and s2. Write a program to create a new string s3 made of the first char of s1, then the last char of s2, Next, the second char of s1 and second last char of s2, and so on. Any leftover chars go at the end of the result.\n",
        "s1 = \"Abc\"\n",
        "s2 = \"Xyz\"\n",
        "Output:\n",
        "AzbycX\n"
      ],
      "metadata": {
        "id": "ztwk_puMxxdo"
      }
    },
    {
      "cell_type": "code",
      "source": [
        "def merge_strings(s1, s2):\n",
        "    s3 = []\n",
        "    len_s1 = len(s1)\n",
        "    len_s2 = len(s2)\n",
        "    min_len = min(len_s1, len_s2)\n",
        "    for i in range(min_len):\n",
        "        s3.append(s1[i])\n",
        "        s3.append(s2[-(i+1)])\n",
        "    if len_s1 > len_s2:\n",
        "        s3.extend(s1[min_len:])\n",
        "    elif len_s2 > len_s1:\n",
        "        s3.extend(s2[:-(min_len+1):-1])\n",
        "    return ''.join(s3)\n",
        "\n",
        "s1 = \"Abc\"\n",
        "s2 = \"Xyz\"\n",
        "s3 = merge_strings(s1, s2)\n",
        "print(\"Output:\", s3)\n"
      ],
      "metadata": {
        "colab": {
          "base_uri": "https://localhost:8080/"
        },
        "id": "QL_A6G0pRDK6",
        "outputId": "b718fba5-4dcc-4489-9e8a-f762a83bdc9c"
      },
      "execution_count": 5,
      "outputs": [
        {
          "output_type": "stream",
          "name": "stdout",
          "text": [
            "Output: AzbycX\n"
          ]
        }
      ]
    },
    {
      "cell_type": "markdown",
      "source": [
        "Given two strings, str1 and str2. Write a program to create a new string str3 by appending str2 in the middle of str1.\n",
        "\tEg: str1= ”STAR”                                str2= “SUPER”\n",
        "\tOutput:   STSUPERAR\n"
      ],
      "metadata": {
        "id": "0Za8Henlx5QN"
      }
    },
    {
      "cell_type": "code",
      "source": [
        "def append_in_middle(str1, str2):\n",
        "    mid_index = len(str1) // 2\n",
        "    str3 = str1[:mid_index] + str2 + str1[mid_index:]\n",
        "    return str3\n",
        "\n",
        "str1 = \"STAR\"\n",
        "str2 = \"SUPER\"\n",
        "str3 = append_in_middle(str1, str2)\n",
        "print(\"Output:\", str3)\n"
      ],
      "metadata": {
        "colab": {
          "base_uri": "https://localhost:8080/"
        },
        "id": "RP7JgW9qRpy8",
        "outputId": "5015d92b-1c7e-41c7-943f-536247a70732"
      },
      "execution_count": 6,
      "outputs": [
        {
          "output_type": "stream",
          "name": "stdout",
          "text": [
            "Output: STSUPERAR\n"
          ]
        }
      ]
    },
    {
      "cell_type": "markdown",
      "source": [
        "Accept the marked price from the user and calculate the Net amount as (Marked Price - Discount) to pay according to following criteria:\n",
        "Marked Price\t      Discount\n",
        ">10000\t              20%\n",
        ">7000 and <=10000   \t15%\n",
        "<=7000\t              10%"
      ],
      "metadata": {
        "id": "D_qepyaGyE_8"
      }
    },
    {
      "cell_type": "code",
      "source": [
        "def calculate_net_amount(marked_price):\n",
        "    if marked_price > 10000:\n",
        "        discount = 0.20\n",
        "    elif marked_price > 7000:\n",
        "        discount = 0.15\n",
        "    else:\n",
        "        discount = 0.10\n",
        "    discount_amount = marked_price * discount\n",
        "    net_amount = marked_price - discount_amount\n",
        "    return net_amount\n",
        "\n",
        "marked_price = float(input(\"Enter the marked price: \"))\n",
        "net_amount = calculate_net_amount(marked_price)\n",
        "print(\"Net amount to pay:\", net_amount)\n"
      ],
      "metadata": {
        "colab": {
          "base_uri": "https://localhost:8080/"
        },
        "id": "TUW_vCv0SGjt",
        "outputId": "437be5c5-895a-4350-f866-f2e4c84f2af7"
      },
      "execution_count": 7,
      "outputs": [
        {
          "output_type": "stream",
          "name": "stdout",
          "text": [
            "Enter the marked price: 100000\n",
            "Net amount to pay: 80000.0\n"
          ]
        }
      ]
    },
    {
      "cell_type": "markdown",
      "source": [
        "Write a program to calculate the electricity bill (accept number of units from user) according to the following criteria:\n",
        "Units\t            Price\n",
        "First 100 units\t   No charge\n",
        "Next 100 units\t   Rs.5 per unit\n",
        "After 200 units\t   Rs.10 per unit\n",
        "(For example, if input unit is 350, then the total bill amount is Rs.2000)"
      ],
      "metadata": {
        "id": "zwF7b7KmzP0D"
      }
    },
    {
      "cell_type": "code",
      "source": [
        "def calculate_electricity_bill(units):\n",
        "    if units <= 100:\n",
        "        bill_amount = 0\n",
        "    elif units <= 200:\n",
        "        bill_amount = (units - 100) * 5\n",
        "    else:\n",
        "        bill_amount = (100 * 5) + (units - 200) * 10\n",
        "    return bill_amount\n",
        "\n",
        "units = int(input(\"Enter the number of units: \"))\n",
        "bill_amount = calculate_electricity_bill(units)\n",
        "print(\"Total bill amount:\", bill_amount)\n"
      ],
      "metadata": {
        "colab": {
          "base_uri": "https://localhost:8080/"
        },
        "id": "jG0i3yKhSOCw",
        "outputId": "75407287-f4f9-49eb-91d2-afa067ffb625"
      },
      "execution_count": 8,
      "outputs": [
        {
          "output_type": "stream",
          "name": "stdout",
          "text": [
            "Enter the number of units: 350\n",
            "Total bill amount: 2000\n"
          ]
        }
      ]
    },
    {
      "cell_type": "markdown",
      "source": [
        "Write a program to calculate Employee’s bonus calculation for the details given below\n",
        "Experience\t        Bonus (%)\n",
        "More than 8 years\t  10 %\n",
        "More than 4 years\t   7%\n",
        "More than 2 years\t   4%"
      ],
      "metadata": {
        "id": "Urg3Y7FUyu8c"
      }
    },
    {
      "cell_type": "code",
      "source": [
        "def calculate_bonus(salary, experience):\n",
        "    if experience > 8:\n",
        "        bonus_percentage = 0.10\n",
        "    elif experience > 4:\n",
        "        bonus_percentage = 0.07\n",
        "    elif experience > 2:\n",
        "        bonus_percentage = 0.04\n",
        "    else:\n",
        "        bonus_percentage = 0.00\n",
        "    bonus_amount = salary * bonus_percentage\n",
        "    return bonus_amount\n",
        "\n",
        "salary = float(input(\"Enter the employee's salary: \"))\n",
        "experience = int(input(\"Enter the employee's experience in years: \"))\n",
        "bonus = calculate_bonus(salary, experience)\n",
        "print(\"Bonus amount:\", bonus)\n"
      ],
      "metadata": {
        "colab": {
          "base_uri": "https://localhost:8080/"
        },
        "id": "T7dYQxMOSdHC",
        "outputId": "0a7ed37a-29af-473f-a0c4-9eee29efecc1"
      },
      "execution_count": 9,
      "outputs": [
        {
          "output_type": "stream",
          "name": "stdout",
          "text": [
            "Enter the employee's salary: 30000\n",
            "Enter the employee's experience in years: 5\n",
            "Bonus amount: 2100.0\n"
          ]
        }
      ]
    }
  ]
}